{
 "cells": [
  {
   "cell_type": "code",
   "execution_count": 5,
   "metadata": {},
   "outputs": [
    {
     "data": {
      "image/png": "[encoded data removed]",
      "text/plain": [
       "<Figure size 432x288 with 1 Axes>"
      ]
     },
     "metadata": {},
     "output_type": "display_data"
    }
   ],
   "source": [
    "import tkinter \n",
    "import random \n",
    "colours = ['Red','Blue','Green','Pink','Black', \n",
    "\n",
    "           'Yellow','Orange','White','Purple','Brown'] \n",
    "score = 0\n",
    "timeleft = 30\n",
    "def startGame(event): \n",
    "    if timeleft == 30: \n",
    "        countdown() \n",
    "    nextColour() \n",
    "def nextColour(): \n",
    "    global score \n",
    "    global timeleft \n",
    "    if timeleft > 0:\n",
    "        e.focus_set() \n",
    "        if e.get().lower() == colours[1].lower(): \n",
    "            score += 1\n",
    "        e.delete(0, tkinter.END) \n",
    "        random.shuffle(colours) \n",
    "\n",
    "        label.config(fg = str(colours[1]), text = str(colours[0])) \n",
    "\n",
    "        scoreLabel.config(text = \"Score: \" + str(score)) \n",
    "def countdown(): \n",
    "    global timeleft \n",
    "    if timeleft > 0: \n",
    "\n",
    "        timeleft -= 1\n",
    "\n",
    "        timeLabel.config(text = \"Time left: \"\n",
    "\n",
    "                               + str(timeleft)) \n",
    "        timeLabel.after(1000, countdown) \n",
    "\n",
    "root = tkinter.Tk() \n",
    "\n",
    "root.title(\"COLORGAME\") \n",
    "\n",
    "\n",
    "root.geometry(\"375x200\") \n",
    "\n",
    " \n",
    "\n",
    "instructions = tkinter.Label(root, text = \"Type in the colour\"\n",
    "\n",
    "                 \"of the words, and not the word text!\", \n",
    "\n",
    "                                      font = ('Helvetica', 12)) \n",
    "instructions.pack()  \n",
    "\n",
    "scoreLabel = tkinter.Label(root, text = \"Press enter to start\", \n",
    "\n",
    "                                      font = ('Helvetica', 12)) \n",
    "scoreLabel.pack() \n",
    "\n",
    "\n",
    "timeLabel = tkinter.Label(root, text = \"Time left: \" +\n",
    "\n",
    "              str(timeleft), font = ('Helvetica', 12)) \n",
    "\n",
    "                \n",
    "timeLabel.pack() \n",
    "\n",
    "  \n",
    "\n",
    "\n",
    "label = tkinter.Label(root, font = ('Helvetica', 60)) \n",
    "label.pack() \n",
    "\n",
    "\n",
    "e = tkinter.Entry(root) \n",
    "\n",
    "  \n",
    "\n",
    "root.bind('<Return>', startGame) \n",
    "e.pack() \n",
    "e.focus_set() \n",
    "root.mainloop()\n",
    "\n",
    "import  matplotlib.pyplot  as  plt\n",
    "\n",
    "slices_hours = [score,30+timeleft]\n",
    "activities = ['score', 'time']\n",
    "colors = ['b', 'r']\n",
    "plt.pie(slices_hours,labels=activities,colors=colors,startangle=90,autopct='%.1f%%')\n",
    "plt.show()\n"
   ]
  },
  {
   "cell_type": "code",
   "execution_count": null,
   "metadata": {},
   "outputs": [],
   "source": []
  },
  {
   "cell_type": "code",
   "execution_count": null,
   "metadata": {},
   "outputs": [],
   "source": []
  },
  {
   "cell_type": "code",
   "execution_count": null,
   "metadata": {},
   "outputs": [],
   "source": []
  }
 ],
 "metadata": {
  "kernelspec": {
   "display_name": "Python 3",
   "language": "python",
   "name": "python3"
  },
  "language_info": {
   "codemirror_mode": {
    "name": "ipython",
    "version": 3
   },
   "file_extension": ".py",
   "mimetype": "text/x-python",
   "name": "python",
   "nbconvert_exporter": "python",
   "pygments_lexer": "ipython3",
   "version": "3.8.3"
  }
 },
 "nbformat": 4,
 "nbformat_minor": 4
}
